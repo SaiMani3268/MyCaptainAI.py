{
 "cells": [
  {
   "cell_type": "code",
   "execution_count": 2,
   "id": "e61fa65a",
   "metadata": {},
   "outputs": [
    {
     "name": "stdout",
     "output_type": "stream",
     "text": [
      "Enter number of terms:5\n",
      "Fibonacci Series is:\n",
      "0\n",
      "1\n",
      "1\n",
      "2\n",
      "3\n"
     ]
    }
   ],
   "source": [
    "nterms = int(input('Enter number of terms:'))\n",
    "t1 = 0\n",
    "t2 = 1\n",
    "count = 0\n",
    "if nterms<=0:\n",
    "    print(\"Please enter positive number\")\n",
    "elif nterms==1:\n",
    "    print(\"Fibonacci series for 1 term is:\")\n",
    "    print(t1)\n",
    "else:\n",
    "    print(\"Fibonacci Series is:\")\n",
    "    while count<nterms:\n",
    "        print(t1)\n",
    "        tn = t1 + t2\n",
    "        t1 = t2\n",
    "        t2 = tn\n",
    "        count = count +1"
   ]
  }
 ],
 "metadata": {
  "kernelspec": {
   "display_name": "Python 3 (ipykernel)",
   "language": "python",
   "name": "python3"
  },
  "language_info": {
   "codemirror_mode": {
    "name": "ipython",
    "version": 3
   },
   "file_extension": ".py",
   "mimetype": "text/x-python",
   "name": "python",
   "nbconvert_exporter": "python",
   "pygments_lexer": "ipython3",
   "version": "3.11.1"
  }
 },
 "nbformat": 4,
 "nbformat_minor": 5
}

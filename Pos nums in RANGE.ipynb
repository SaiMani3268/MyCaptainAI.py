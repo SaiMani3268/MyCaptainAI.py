{
 "cells": [
  {
   "cell_type": "code",
   "execution_count": 5,
   "id": "a928093c",
   "metadata": {},
   "outputs": [
    {
     "name": "stdout",
     "output_type": "stream",
     "text": [
      "Original list is: [12, -7, 5, 64, -14]\n",
      "Positive numbers in given list is: \n",
      "12\n",
      "5\n",
      "64\n"
     ]
    }
   ],
   "source": [
    "l1 = [12, -7, 5, 64, -14]\n",
    "print(\"Original list is:\",l1)\n",
    "print(\"Positive numbers in given list is: \")\n",
    "for pos_numbers in l1:\n",
    "    if pos_numbers>0:\n",
    "        print(pos_numbers)"
   ]
  },
  {
   "cell_type": "code",
   "execution_count": 6,
   "id": "aaec3012",
   "metadata": {},
   "outputs": [
    {
     "name": "stdout",
     "output_type": "stream",
     "text": [
      "Original list is: [12, 14, -95, 3]\n",
      "Positive numbers in given list is: \n",
      "12\n",
      "14\n",
      "3\n"
     ]
    }
   ],
   "source": [
    "l2 = [12, 14, -95, 3]\n",
    "print(\"Original list is:\",l2)\n",
    "print(\"Positive numbers in given list is: \")\n",
    "for pos_numbers in l2:\n",
    "    if pos_numbers>0:\n",
    "        print(pos_numbers)"
   ]
  }
 ],
 "metadata": {
  "kernelspec": {
   "display_name": "Python 3 (ipykernel)",
   "language": "python",
   "name": "python3"
  },
  "language_info": {
   "codemirror_mode": {
    "name": "ipython",
    "version": 3
   },
   "file_extension": ".py",
   "mimetype": "text/x-python",
   "name": "python",
   "nbconvert_exporter": "python",
   "pygments_lexer": "ipython3",
   "version": "3.11.1"
  }
 },
 "nbformat": 4,
 "nbformat_minor": 5
}
